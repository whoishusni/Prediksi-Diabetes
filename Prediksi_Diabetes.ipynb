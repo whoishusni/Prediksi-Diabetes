{
  "nbformat": 4,
  "nbformat_minor": 0,
  "metadata": {
    "colab": {
      "name": "Prediksi Diabetes.ipynb",
      "provenance": [],
      "collapsed_sections": [],
      "authorship_tag": "ABX9TyPP8I0HoBdWxPXzf7iyfc9+",
      "include_colab_link": true
    },
    "kernelspec": {
      "name": "python3",
      "display_name": "Python 3"
    },
    "language_info": {
      "name": "python"
    }
  },
  "cells": [
    {
      "cell_type": "markdown",
      "metadata": {
        "id": "view-in-github",
        "colab_type": "text"
      },
      "source": [
        "<a href=\"https://colab.research.google.com/github/whoishusni/Prediksi-Diabetes/blob/main/Prediksi_Diabetes.ipynb\" target=\"_parent\"><img src=\"https://colab.research.google.com/assets/colab-badge.svg\" alt=\"Open In Colab\"/></a>"
      ]
    },
    {
      "cell_type": "markdown",
      "metadata": {
        "id": "jTqwi0sKy_2j"
      },
      "source": [
        "**DISCLAIMER**  \n",
        "Jika Ingin Memakai Kode saya, Harap Cantumkan Credit Ke Alamat Repository Github Saya. \n",
        "\n",
        "Terima Kasih\n",
        "\n",
        "\n"
      ]
    },
    {
      "cell_type": "markdown",
      "metadata": {
        "id": "GzdWXEFoORlU"
      },
      "source": [
        "**PERHATIAN**  \n",
        "\n",
        "Jika File CSV Tidak ada, bisa download di sini  \n",
        "\n",
        "https://drive.google.com/file/d/1bpVCIvtC-aBcRs4_aB84E5rqqXkz_MZW/view?usp=sharing  \n",
        "\n",
        "Kemuadian Upload Di Google Colab Anda. \n",
        "Menggunakan Code Dibawah \n",
        "\n",
        "++++++++++++++++++++++++++++++++++++++++++++++++++++++++"
      ]
    },
    {
      "cell_type": "code",
      "metadata": {
        "id": "pFzApjG2QaZh"
      },
      "source": [
        "from google.colab import files\n",
        "files.upload()"
      ],
      "execution_count": null,
      "outputs": []
    },
    {
      "cell_type": "markdown",
      "metadata": {
        "id": "ssF05finyoO6"
      },
      "source": [
        "Program ini adalah Program Untuk Menentukan Apakah Terkena Diabetes atau Tidak. Berdasarkan parameter :\n",
        "\n",
        "\n",
        "1.   Glukosa\n",
        "2.   Tekanan Darah\n",
        "3.   Ketebalan Kulit\n",
        "4.   Insulin\n",
        "5.   BMI\n",
        "6.   Umur / Usia\n",
        "\n",
        "Menggunakan SVC (Support Vector Classification) dari SkLearn  \n",
        "\n",
        "+++++++++++++++++++++++++++++++++++++++++++++++++++++++++\n",
        "\n",
        "\n",
        "\n",
        "\n",
        "\n"
      ]
    },
    {
      "cell_type": "markdown",
      "metadata": {
        "id": "pLs437x5wfG5"
      },
      "source": [
        "**MAIN CODE**\n"
      ]
    },
    {
      "cell_type": "code",
      "metadata": {
        "colab": {
          "base_uri": "https://localhost:8080/"
        },
        "id": "Yn_pci4xI_XK",
        "outputId": "8e00efcc-def4-4450-eb30-2d65b0a32376"
      },
      "source": [
        "import pandas as pd\n",
        "from sklearn.model_selection import train_test_split\n",
        "from sklearn.svm import SVC\n",
        "from sklearn.model_selection import GridSearchCV\n",
        "\n",
        "class Diabetes():\n",
        "    def __init__(self, glucose,blood_pressure,skin_thickness, insulin, bmi,age):\n",
        "        self.glucose = glucose\n",
        "        self.blood_pressure = blood_pressure\n",
        "        self.skin_thickness = skin_thickness\n",
        "        self.insulin = insulin\n",
        "        self.bmi = bmi\n",
        "        self.age = age\n",
        "\n",
        "    def predict_the_data(self):\n",
        "        #mengubah dataset menjadi dataframe\n",
        "        dataframe = pd.read_csv('diabetes.csv')\n",
        "\n",
        "        #Menentukan nilai X dan Y\n",
        "        X = dataframe[dataframe.columns[:6]]\n",
        "        Y = dataframe['Outcome']\n",
        "\n",
        "        #train & test data\n",
        "        X_train, X_test, y_train, y_test = train_test_split(X,Y,test_size=0.33) #data untuk test 33%\n",
        "\n",
        "        #buat model\n",
        "        model = SVC(C=1000, kernel='rbf', gamma=0.005)\n",
        "        model.fit(X_train,y_train)\n",
        "\n",
        "        #prediksi data\n",
        "        data = model.predict([[\n",
        "                              self.glucose,\n",
        "                              self.blood_pressure,\n",
        "                              self.skin_thickness,\n",
        "                              self.insulin,\n",
        "                              self.bmi,\n",
        "                              self.age]])\n",
        "        if data == 1:\n",
        "            print('HASIL = Diabetes')\n",
        "        else:\n",
        "            print('HASIL = Tidak Diabetes')\n",
        "\n",
        "    def mains():\n",
        "        #input data\n",
        "        print(' Program Diabetes '.center(50,'='))\n",
        "        glucose = input('Glukosa = ')\n",
        "        blood_pressure = input('Tekanan Darah = ')\n",
        "        skin_thickness = input('Ketebalan Kulit = ')\n",
        "        insulin = input('Insulin = ')\n",
        "        bmi = input('BMI = ')\n",
        "        age = input('Usia = ')\n",
        "        print(' Hasil Prediksi'.center(50,'='))\n",
        "\n",
        "        dia = Diabetes(glucose, blood_pressure, skin_thickness, insulin, bmi, age)\n",
        "        #dia = Diabetes(176,90,34,300,33.7,58)\n",
        "        dia.predict_the_data()\n",
        "\n",
        "    mains()\n",
        "\n",
        "\n",
        "\n"
      ],
      "execution_count": 473,
      "outputs": [
        {
          "output_type": "stream",
          "text": [
            "================ Program Diabetes ================\n",
            "Glukosa = 145\n",
            "Tekanan Darah = 85\n",
            "Ketebalan Kulit = 37\n",
            "Insulin = 250\n",
            "BMI = 39\n",
            "Usia = 27\n",
            "================= Hasil Prediksi==================\n",
            "HASIL = Tidak Diabetes\n"
          ],
          "name": "stdout"
        }
      ]
    },
    {
      "cell_type": "markdown",
      "metadata": {
        "id": "qNfgjcmBwLgM"
      },
      "source": [
        "Code Untuk Mencari Parameter Argument untuk SVC"
      ]
    },
    {
      "cell_type": "code",
      "metadata": {
        "id": "SR7nFyduwKkv"
      },
      "source": [
        "parameters = {\n",
        "            'kernel': ['rbf'],\n",
        "            'C': [1000,10000,100000],\n",
        "            'gamma' : [0.5,0.05,0.005]\n",
        "        }\n",
        "grid_search = GridSearchCV(model,parameters)\n",
        "grid_search.fit(X_train,y_train)\n",
        "print(grid_search.best_params_)"
      ],
      "execution_count": null,
      "outputs": []
    },
    {
      "cell_type": "markdown",
      "metadata": {
        "id": "XG-tLQru3OQz"
      },
      "source": [
        "Tingkat Akurasi Model"
      ]
    },
    {
      "cell_type": "code",
      "metadata": {
        "colab": {
          "base_uri": "https://localhost:8080/"
        },
        "id": "CZZHbm0o3QUq",
        "outputId": "273b6575-7bf4-4d17-b62d-85e83f8835dd"
      },
      "source": [
        "# akurasi model 75%\n",
        "model.score(X_test, y_test)"
      ],
      "execution_count": 472,
      "outputs": [
        {
          "output_type": "execute_result",
          "data": {
            "text/plain": [
              "0.7532467532467533"
            ]
          },
          "metadata": {
            "tags": []
          },
          "execution_count": 472
        }
      ]
    }
  ]
}
